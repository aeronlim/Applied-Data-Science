{
 "cells": [
  {
   "cell_type": "markdown",
   "metadata": {},
   "source": [
    "<h1>The Battle of the Neighborhoods - Week 1</h>\n",
    "<h3>Data :</h3>\n",
    "One city will be analysed in this project : Newyork City.\n",
    "\n",
    "We will be using the below datasets for analysing Newyork city\n",
    "\n",
    "<b>Data 1</b> : Neighborhood has a total of 5 boroughs and 306 neighborhoods. In order to segement the neighborhoods and explore them, we will essentially need a dataset that contains the 5 boroughs and the neighborhoods that exist in each borough as well as the the latitude and logitude coordinates of each neighborhood.\n",
    "\n",
    "This dataset exists for free on the web. Link to the dataset is : https://geo.nyu.edu/catalog/nyu_2451_34572\n",
    "\n",
    "<b>Data 2</b> : Second data which will be used is the DOHMH Farmers Markets and Food Boxes dataset. In this we will be using the data of Farmers Markets.\n",
    "\n",
    "https://data.cityofnewyork.us/dataset/DOHMH-Farmers-Markets-and-Food-Boxes/8vwk-6iz2\n",
    "\n",
    "Website-https://www.grownyc.org/greenmarketco/foodbox\n",
    "GrowNYC's Fresh Food Box Program is a food access initiative that enables under-served communities to purchase fresh, healthy, and primarily regionally grown produce well below traditional retail prices.\n",
    "\n",
    "A farmers' market is often defined as a public site used by two or more local or regional producers for the direct sale of farm products to consumers. In addition to fresh fruits and vegetables, markets may sell dairy products, fish, meat, baked goods, and other minimally processed foods.\n",
    "\n",
    "<b>Data 3</b> : For the below analysis we will get data from wikipedia as given below :\n",
    "\n",
    "New York Population\n",
    "New York City Demographics\n",
    "Cuisine of New York city\n",
    "https://en.wikipedia.org/wiki/New_York_City\n",
    "https://en.wikipedia.org/wiki/Economy_of_New_York_City\n",
    "https://en.wikipedia.org/wiki/Portal:New_York_City\n",
    "https://en.wikipedia.org/wiki/Cuisine_of_New_York_City\n",
    "https://en.wikipedia.org/wiki/List_of_Michelin_starred_restaurants_in_New_York_City\n",
    "\n",
    "<b>Data 4</b> : Newyork city geographical coordinates data will be utilized as input for the Foursquare API, that will be leveraged to provision venues information for each neighborhood.We will use the Foursquare API to explore neighborhoods in New York City. The below is image of the Foursquare API data.\n",
    "\n"
   ]
  },
  {
   "cell_type": "code",
   "execution_count": 1,
   "metadata": {
    "jupyter": {
     "source_hidden": true
    }
   },
   "outputs": [
    {
     "data": {
      "text/html": [
       "<img src=\"https://camo.githubusercontent.com/c807a065257e17c6d9b508ae87d45e304ac87026/68747470733a2f2f692e696d6775722e636f6d2f4d4f7878796f592e706e67\"/>"
      ],
      "text/plain": [
       "<IPython.core.display.Image object>"
      ]
     },
     "execution_count": 1,
     "metadata": {},
     "output_type": "execute_result"
    }
   ],
   "source": [
    "from IPython.display import Image\n",
    "from IPython.core.display import HTML \n",
    "Image(url= \"https://camo.githubusercontent.com/c807a065257e17c6d9b508ae87d45e304ac87026/68747470733a2f2f692e696d6775722e636f6d2f4d4f7878796f592e706e67\")"
   ]
  },
  {
   "cell_type": "code",
   "execution_count": null,
   "metadata": {},
   "outputs": [],
   "source": []
  }
 ],
 "metadata": {
  "kernelspec": {
   "display_name": "Python",
   "language": "python",
   "name": "conda-env-python-py"
  },
  "language_info": {
   "codemirror_mode": {
    "name": "ipython",
    "version": 3
   },
   "file_extension": ".py",
   "mimetype": "text/x-python",
   "name": "python",
   "nbconvert_exporter": "python",
   "pygments_lexer": "ipython3",
   "version": "3.6.10"
  }
 },
 "nbformat": 4,
 "nbformat_minor": 4
}
